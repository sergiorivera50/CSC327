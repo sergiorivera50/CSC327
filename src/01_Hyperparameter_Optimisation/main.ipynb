{
 "cells": [
  {
   "cell_type": "markdown",
   "metadata": {},
   "source": [
    "# Hyperparameter Optimisation"
   ]
  },
  {
   "cell_type": "markdown",
   "metadata": {},
   "source": [
    "## Mean Squared Error"
   ]
  },
  {
   "cell_type": "markdown",
   "metadata": {},
   "source": [
    "A linear model is one of the simplest regression techniques, but it captures all the key aspects of\n",
    "data-driven modelling and machine learning. You are given a set of data: usually, you have\n",
    "a (or more) predictor $x$ and a predictand $y$. We may believe that $x$ and $y$ have a linear relationship\n",
    "between them, i.e. if I increase $x$ by a certain amount $y$ increases linearly, and vice-versa. This\n",
    "relationship is often described with the following equation:\n",
    "\n",
    "$$ y = mx + c $$\n",
    "\n",
    "where $m$ is the slope of the linear relationship and $c$ is the intercept. In machine learning literature,\n",
    "you may find that they denote the slope as weight and the intercept as bias.\n",
    "\n",
    "Now, of course, if someone is simply giving us the data – a bunch of measurements of $y$'s for\n",
    "respective $x$'s – we do not quite know the original $m$ and $c$ of the model, so we cannot exactly predict\n",
    "the outcome $y$ for an unknown $x$. To make matters further complicated, the data we are given often\n",
    "has noise, as in we cannot exactly measure the predictand and thus the values we got from our\n",
    "measurements are slightly off. So, we want to locate an appropriate set of values for $m$ and $c$ such\n",
    "that we fit the data best. To fit the data best, we often try out various different $m$'s and $c$'s, and\n",
    "return the values for which we received the lowest ***mean squared error***. The whole idea is that if\n",
    "we can correctly (or with a small error) predict the $y$'s for the given $x$'s, then we should be able to\n",
    "make good predictions of $y$'s for unseen $x$'s. The predictions from the model are often denoted as $\\hat{y}$'s\n",
    "to distinctly identify them from given $y$'s, which are the measured responses for various $x$'s.\n",
    "Clearly this is an optimisation problem. In this context, our independent variables are $\\mathbf{\\theta} = (m,c)^\\top$ and the optimisation problem is:\n",
    "\n",
    "$$ \\min_\\theta f(\\mathbf{\\theta}) = \\sum_{i=1}^M (y_i - \\hat{y}_i)^2 = \\sum_{i=1}^M (y_i - mx_i - c)^2$$\n",
    "\n",
    "when you are given $m$ data points.\n",
    "\n",
    "The following is an implementation of the mean squared error function using the following training $X$ and label $Y$ datasets.\n",
    "\n",
    "$$ \n",
    "X =\n",
    "\\begin{bmatrix}\n",
    "1 \\\\ 2 \\\\ 3 \\\\ 4 \\\\ 5\n",
    "\\end{bmatrix};\n",
    "\\hspace{5mm}\n",
    "Y =\n",
    "\\begin{bmatrix}\n",
    "2 \\\\ 4 \\\\ 5 \\\\ 4 \\\\ 5\n",
    "\\end{bmatrix}\n",
    "$$"
   ]
  },
  {
   "cell_type": "code",
   "execution_count": 66,
   "metadata": {},
   "outputs": [],
   "source": [
    "\"\"\" Utility functions + imports \"\"\"\n",
    "\n",
    "import itertools\n",
    "import numpy as np\n",
    "import matplotlib.pyplot as plt\n",
    "\n",
    "def mean_squared_error(truth, preds):\n",
    "  assert len(truth) == len(preds), \"Unequal length of truth and predictions datasets\"\n",
    "  sqe = (truth - preds) ** 2\n",
    "  return 1/len(truth) * sum(sqe)\n",
    "\n",
    "def permutate(mx):\n",
    "  keys, values = zip(*mx.items())\n",
    "  return [dict(zip(keys, v)) for v in itertools.product(*values)]"
   ]
  },
  {
   "cell_type": "code",
   "execution_count": 67,
   "metadata": {},
   "outputs": [
    {
     "data": {
      "image/png": "[encoded data removed]",
      "text/plain": [
       "<Figure size 640x480 with 1 Axes>"
      ]
     },
     "metadata": {},
     "output_type": "display_data"
    }
   ],
   "source": [
    "training = np.arange(1, 6)\n",
    "labels = np.array([2, 4, 5, 4, 5])\n",
    "\n",
    "class SimpleRegression:\n",
    "  def __init__(self, m, c=0):\n",
    "    self.m = m\n",
    "    self.c = c\n",
    "\n",
    "  def predict(self, X):\n",
    "    return self.m * X - self.c\n",
    "\n",
    "  def __repr__(self):\n",
    "    return f\"<SimpleRegression m={self.m} c={self.c}>\"\n",
    "\n",
    "simple_reg = SimpleRegression(m=0.6, c=-2.2)\n",
    "\n",
    "plt.scatter(training, labels, label=\"Data Samples\")\n",
    "interval = np.array([min(training), max(training)])  # for plotting\n",
    "plt.plot(interval, simple_reg.predict(interval), \"r-\", label=\"Linear Equation\")\n",
    "\n",
    "preds = simple_reg.predict(training)\n",
    "\n",
    "plt.scatter(training, preds, c=\"red\", label=\"Predictions\")\n",
    "plt.title(f\"MSE = {mean_squared_error(labels, preds)}\")\n",
    "plt.legend()\n",
    "plt.show()"
   ]
  },
  {
   "cell_type": "markdown",
   "metadata": {},
   "source": [
    "## Grid Search"
   ]
  },
  {
   "cell_type": "code",
   "execution_count": 68,
   "metadata": {},
   "outputs": [
    {
     "name": "stdout",
     "output_type": "stream",
     "text": [
      "Best model = <SimpleRegression m=0.5050505050505052 c=-2.525252525252525>\n"
     ]
    }
   ],
   "source": [
    "class SimpleGridSearch:\n",
    "  def search(self, mx, model_class):\n",
    "    perms = permutate(mx)\n",
    "    lowest = np.inf\n",
    "    for hyperparams in perms:\n",
    "      model = model_class(**hyperparams)\n",
    "      preds = model.predict(training)\n",
    "      err = mean_squared_error(labels, preds)\n",
    "      if err < lowest:\n",
    "        lowest = err\n",
    "        best = model\n",
    "    return best\n",
    "\n",
    "best = SimpleGridSearch().search({\n",
    "  \"m\": np.linspace(-10, 10, 100),\n",
    "  \"c\": np.linspace(-10, 10, 100),\n",
    "}, SimpleRegression)\n",
    "\n",
    "print(f\"Best model = {best}\")"
   ]
  }
 ],
 "metadata": {
  "kernelspec": {
   "display_name": "Python 3.9.7 ('venv': venv)",
   "language": "python",
   "name": "python3"
  },
  "language_info": {
   "codemirror_mode": {
    "name": "ipython",
    "version": 3
   },
   "file_extension": ".py",
   "mimetype": "text/x-python",
   "name": "python",
   "nbconvert_exporter": "python",
   "pygments_lexer": "ipython3",
   "version": "3.9.7"
  },
  "orig_nbformat": 4,
  "vscode": {
   "interpreter": {
    "hash": "a3397a1801c375537975026d6c6c717a0a2655be2e0cc5fa12258a970f31f749"
   }
  }
 },
 "nbformat": 4,
 "nbformat_minor": 2
}
